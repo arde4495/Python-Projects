{
 "cells": [
  {
   "cell_type": "code",
   "execution_count": 1,
   "metadata": {},
   "outputs": [],
   "source": [
    "import math\n",
    "import numpy as np\n",
    "import matplotlib.pyplot as plt\n",
    "import random"
   ]
  },
  {
   "cell_type": "markdown",
   "metadata": {},
   "source": [
    "# Perfect Numbers"
   ]
  },
  {
   "cell_type": "markdown",
   "metadata": {},
   "source": [
    "` is_perfect(num)` returns `True` if `num` is perfect number"
   ]
  },
  {
   "cell_type": "code",
   "execution_count": 2,
   "metadata": {},
   "outputs": [],
   "source": [
    "# helper function creates list of divisors\n",
    "def divisor(num):\n",
    "    if num == 1:\n",
    "        return [1]\n",
    "    divs = [1,num]\n",
    "    for i in range(2, int(math.sqrt(num)+1)):\n",
    "        if num % i == 0:\n",
    "            divs.append(i)\n",
    "            if i*i != num:\n",
    "                divs.append(num//i)\n",
    "    return sorted(divs)\n",
    "\n",
    "def  is_perfect(num):\n",
    "    div = divisor(num)\n",
    "    div_sum = sum(n for n in div if n != num)\n",
    "    return num == div_sum\n",
    "    "
   ]
  },
  {
   "cell_type": "markdown",
   "metadata": {},
   "source": [
    "`perfect_nums(maxnum)` returns a list of the perfect numbers amoung the furst `maxnum` positive integer"
   ]
  },
  {
   "cell_type": "code",
   "execution_count": 3,
   "metadata": {},
   "outputs": [],
   "source": [
    "def perfect_nums(maxnum):\n",
    "    return [i for i in range(maxnum+1) if is_perfect(i)]"
   ]
  },
  {
   "cell_type": "markdown",
   "metadata": {},
   "source": [
    "# Mersenne Primes"
   ]
  },
  {
   "cell_type": "markdown",
   "metadata": {},
   "source": [
    "`is_mersenne(num)` returns `True` if `num` is a Mersenne prime, assuming `num` is a positive integer"
   ]
  },
  {
   "cell_type": "code",
   "execution_count": 4,
   "metadata": {},
   "outputs": [],
   "source": [
    "#helper function to check if number is prime\n",
    "def is_prime(num):\n",
    "    if num == 1 or num == 0 :\n",
    "        return False\n",
    "    for i in range(2, int(math.sqrt(num))+1):\n",
    "        if num % i == 0:\n",
    "            return False\n",
    "    return True\n",
    "\n",
    "def is_mersenne(num):\n",
    "    result = 2**num - 1  \n",
    "    return  is_prime(result) and is_prime(num)"
   ]
  },
  {
   "cell_type": "markdown",
   "metadata": {},
   "source": [
    "`mersenne_primes(nprimes)` checks the first `nprime` prime numbers and returns a list of the primes p such that p is a Meresenne prime"
   ]
  },
  {
   "cell_type": "code",
   "execution_count": 5,
   "metadata": {},
   "outputs": [],
   "source": [
    "#helper function creates list of first nprimes\n",
    "def prime_lst(num):\n",
    "    ct = 0\n",
    "    primes = []\n",
    "    while len(primes)!= num: # loops until num primes are in lst \n",
    "        ct+=1 \n",
    "        if is_prime(ct): # adds count to list if prime\n",
    "            primes.append(ct)\n",
    "    return primes\n",
    "\n",
    "def mersenne_primes(nprimes):\n",
    "    mprimes_lst = prime_lst(nprimes)\n",
    "    return[i for i in mprimes_lst if is_mersenne(i)]"
   ]
  },
  {
   "cell_type": "markdown",
   "metadata": {},
   "source": [
    "# An Ace and Two Deuces"
   ]
  },
  {
   "cell_type": "markdown",
   "metadata": {},
   "source": [
    "`guess_ace(strategy)` simulates card game"
   ]
  },
  {
   "cell_type": "code",
   "execution_count": 6,
   "metadata": {},
   "outputs": [],
   "source": [
    "def guess_ace(strategy):\n",
    "    cards = [2,2,2]\n",
    "    ace_position = random.randint(0,2)# chooses postion of Ace\n",
    "    initial_guess = random.randint(0,2)\n",
    "    cards[ace_position]='A'\n",
    "    print(f'Your initial guess: Card {initial_guess+1}')\n",
    "    if strategy == 'stay':\n",
    "        print('You decide to stay.')\n",
    "        print(f\"Monty's cards:{cards[0]} {cards[1]} {cards[2]}\" )\n",
    "        if initial_guess == ace_position:\n",
    "            print('Skiing this weekend!')\n",
    "        else:\n",
    "            print('No skiing this weekend')\n",
    "    elif strategy == 'switch':\n",
    "        print('You decide to switch.')\n",
    "        print(f\"Monty's cards:{cards[0]} {cards[1]} {cards[2]}\")\n",
    "        if initial_guess != ace_position:\n",
    "            print('Skiing this weekend!')\n",
    "        else:\n",
    "            print('No skiing this weekend')           "
   ]
  },
  {
   "cell_type": "markdown",
   "metadata": {},
   "source": [
    "# Dice Sums"
   ]
  },
  {
   "cell_type": "markdown",
   "metadata": {},
   "source": [
    "`dice_sum_sim(ndice, nsim)` simulates rolling of `ndice` dice and returns list of probalilities of rolling each sum"
   ]
  },
  {
   "cell_type": "code",
   "execution_count": 7,
   "metadata": {},
   "outputs": [],
   "source": [
    "# helper function simulates roll of ndice and finds sum\n",
    "def roll_sum(ndice):\n",
    "    return sum(random.randint(1,6)for i in range(ndice))   \n",
    "# helper function creates dictionary of sums and their frequency\n",
    "def roll_dict(ndice, nsim):\n",
    "    roll_sumlst = [roll_sum(ndice) for i in range(nsim)]\n",
    "    dict_roll = {i:roll_sumlst.count(i) for i in range(ndice,6*ndice+1) }\n",
    "    return dict_roll\n",
    "\n",
    "def dice_sum_sim(ndice, nsim):\n",
    "    freq_dict = roll_dict(ndice, nsim)\n",
    "    freq = list(freq_dict.values())\n",
    "    prob = [f/nsim for f in freq]\n",
    "    return prob\n"
   ]
  },
  {
   "cell_type": "code",
   "execution_count": 8,
   "metadata": {},
   "outputs": [
    {
     "data": {
      "image/png": "[encoded data removed]",
      "text/plain": [
       "<Figure size 432x288 with 1 Axes>"
      ]
     },
     "metadata": {
      "needs_background": "light"
     },
     "output_type": "display_data"
    }
   ],
   "source": [
    "prob3 = dice_sum_sim(3, 10000)\n",
    "sums_dict = roll_dict(3, 10000)\n",
    "sums = list(sums_dict.keys())\n",
    "plt.bar(sums,prob3)\n",
    "plt.xlabel(\"Sums\")\n",
    "plt.ylabel(\"Probabilities\")\n",
    "plt.title(\"Dice Sum Probabilities for n = 3\")\n",
    "plt.show()"
   ]
  },
  {
   "cell_type": "code",
   "execution_count": null,
   "metadata": {},
   "outputs": [],
   "source": []
  }
 ],
 "metadata": {
  "kernelspec": {
   "display_name": "Python 3",
   "language": "python",
   "name": "python3"
  },
  "language_info": {
   "codemirror_mode": {
    "name": "ipython",
    "version": 3
   },
   "file_extension": ".py",
   "mimetype": "text/x-python",
   "name": "python",
   "nbconvert_exporter": "python",
   "pygments_lexer": "ipython3",
   "version": "3.7.4"
  }
 },
 "nbformat": 4,
 "nbformat_minor": 2
}
